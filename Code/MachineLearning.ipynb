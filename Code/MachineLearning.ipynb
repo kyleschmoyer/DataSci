{
  "nbformat": 4,
  "nbformat_minor": 0,
  "metadata": {
    "colab": {
      "provenance": []
    },
    "kernelspec": {
      "name": "python3",
      "display_name": "Python 3"
    },
    "language_info": {
      "name": "python"
    },
    "gpuClass": "standard",
    "accelerator": "GPU"
  },
  "cells": [
    {
      "cell_type": "code",
      "execution_count": null,
      "metadata": {
        "id": "c93nqajoOjEm"
      },
      "outputs": [],
      "source": []
    },
    {
      "cell_type": "markdown",
      "source": [
        "Reading in Data"
      ],
      "metadata": {
        "id": "2FjddSZSiFjU"
      }
    },
    {
      "cell_type": "code",
      "execution_count": null,
      "metadata": {
        "id": "GqKb_5DrVNeJ"
      },
      "outputs": [],
      "source": [
        "import pandas as pd\n",
        "import matplotlib.pyplot as plt"
      ]
    },
    {
      "cell_type": "code",
      "execution_count": null,
      "metadata": {
        "id": "UoyFUCSvVSEr"
      },
      "outputs": [],
      "source": [
        "senate_df = pd.read_csv(\"https://drive.google.com/uc?id=1mMSM9bfu4SxeRDvGsM32eU4Cb6t80cj9\")\n",
        "senate_df = senate_df.drop(\"Unnamed: 0\", axis = 1)"
      ]
    },
    {
      "cell_type": "code",
      "execution_count": null,
      "metadata": {
        "id": "odEFCKmpV4mH"
      },
      "outputs": [],
      "source": [
        "rep_df_one = pd.read_csv(\"https://drive.google.com/uc?id=1xPTbtPQozq4wU43TU8iBXrnSnZTVeoMq\")\n",
        "rep_df_two = pd.read_csv(\"https://drive.google.com/uc?id=1HWIbkxPReQDAhDIiuPlGTK6kq1TTJseM\")\n",
        "rep_df_three = pd.read_csv(\"https://drive.google.com/uc?id=1C0-BVLXd9LjYTXkjJ_rUCsOQx46itrv9\")\n",
        "rep_df = pd.concat([rep_df_one, rep_df_two, rep_df_three], ignore_index=True).drop(\"Unnamed: 0\", axis=1)"
      ]
    },
    {
      "cell_type": "code",
      "execution_count": null,
      "metadata": {
        "id": "hcK5vHwNaGYX"
      },
      "outputs": [],
      "source": [
        "rep_df[\"Text\"] = rep_df[\"Text\"].str.replace(\"\\n\\n\", \" \")\n",
        "rep_df[\"Text\"] = rep_df[\"Text\"].str.replace(\"\\n\", \" \")\n",
        "rep_df[\"Text\"] = rep_df[\"Text\"].str.split(\"https\").str[0]\n",
        "senate_df[\"Text\"] = senate_df[\"Text\"].str.replace(\"\\n\\n\", \" \")\n",
        "senate_df[\"Text\"] = senate_df[\"Text\"].str.replace(\"\\n\", \" \")\n",
        "senate_df[\"Text\"] = senate_df[\"Text\"].str.split(\"https\").str[0]"
      ]
    },
    {
      "cell_type": "code",
      "execution_count": null,
      "metadata": {
        "id": "A1DarzzYiqkH"
      },
      "outputs": [],
      "source": [
        "senate_info = pd.read_csv(\"https://raw.githubusercontent.com/kyleschmoyer/DataSci/main/senate_info-3.csv\")\n",
        "rep_info = pd.read_csv(\"https://raw.githubusercontent.com/kyleschmoyer/DataSci/main/rep_info-3.csv\")\n",
        "senate_info.loc[88, \"State\"] = \"Vermont\""
      ]
    },
    {
      "cell_type": "code",
      "execution_count": null,
      "metadata": {
        "id": "GylOmon58trx"
      },
      "outputs": [],
      "source": [
        "senate_comb = senate_df.merge(\n",
        "    senate_info,\n",
        "    left_on=\"User\",\n",
        "    right_on=\"Twitter\").drop(\"Twitter\", axis = 1)\n",
        "senate_comb[\"Date\"] = pd.to_datetime(senate_comb[\"Date\"], format='%Y-%m-%d').dt.date"
      ]
    },
    {
      "cell_type": "code",
      "execution_count": null,
      "metadata": {
        "id": "fiezE4prCWaV"
      },
      "outputs": [],
      "source": [
        "rep_comb = rep_df.merge(\n",
        "    rep_info,\n",
        "    left_on=\"User\",\n",
        "    right_on=\"Twitter\").drop(\"Twitter\", axis = 1)\n",
        "rep_comb[\"Date\"] = pd.to_datetime(rep_comb[\"Date\"], format='%Y-%m-%d').dt.date"
      ]
    },
    {
      "cell_type": "code",
      "execution_count": null,
      "metadata": {
        "id": "sTbQcC5_6SsZ"
      },
      "outputs": [],
      "source": [
        "comb = pd.concat([senate_comb, rep_comb], ignore_index = True)\n",
        "comb = comb[comb[\"Party\"] != \"Independent\"].reset_index()"
      ]
    },
    {
      "cell_type": "markdown",
      "source": [
        "Early KNN"
      ],
      "metadata": {
        "id": "3kKRqaxYiI1P"
      }
    },
    {
      "cell_type": "code",
      "execution_count": null,
      "metadata": {
        "colab": {
          "base_uri": "https://localhost:8080/"
        },
        "id": "0Q1xMltJ-ZlW",
        "outputId": "9ca771ea-b0a8-4730-d660-a9d3911b4ebf"
      },
      "outputs": [
        {
          "output_type": "stream",
          "name": "stdout",
          "text": [
            "25 0.3827769174301621\n",
            "50 0.7600670737143437\n",
            "75 0.8133248348841609\n",
            "100 0.811735429655922\n"
          ]
        }
      ],
      "source": [
        "from sklearn.model_selection import cross_val_score\n",
        "for i in range(25, 101, 25):\n",
        "  pipeline = make_pipeline(\n",
        "      TfidfVectorizer(ngram_range=(1,1), stop_words='english'),\n",
        "      KNeighborsClassifier(n_neighbors=i, metric=\"euclidean\"))\n",
        "  pipeline.fit(comb[\"Text\"], comb[\"Party\"])\n",
        "  scores = cross_val_score(\n",
        "      pipeline, comb[\"Text\"][:10000], comb[\"Party\"][:10000],\n",
        "      scoring=\"f1_macro\",\n",
        "      cv=10)\n",
        "  print(i, scores.mean())"
      ]
    },
    {
      "cell_type": "markdown",
      "source": [
        "Testing other hyperparameters like N-Gram Range"
      ],
      "metadata": {
        "id": "NYobUyHCiXp_"
      }
    },
    {
      "cell_type": "code",
      "source": [
        "pipeline = make_pipeline(\n",
        "    TfidfVectorizer(ngram_range=(2,2), stop_words='english'),\n",
        "    KNeighborsClassifier(n_neighbors=75, metric=\"euclidean\"))\n",
        "pipeline.fit(comb[\"Text\"], comb[\"Party\"])\n",
        "scores = cross_val_score(\n",
        "    pipeline, comb[\"Text\"].head(10000), comb[\"Party\"].head(10000),\n",
        "    scoring=\"f1_macro\",\n",
        "    cv=10)\n",
        "print(scores.mean())"
      ],
      "metadata": {
        "colab": {
          "base_uri": "https://localhost:8080/"
        },
        "id": "6zMlV2PmcpDg",
        "outputId": "70b7cfa1-c43b-41bb-8c60-285d0dc884e5"
      },
      "execution_count": null,
      "outputs": [
        {
          "output_type": "stream",
          "name": "stdout",
          "text": [
            "0.3448671824397209\n"
          ]
        }
      ]
    },
    {
      "cell_type": "code",
      "source": [
        "pipeline = make_pipeline(\n",
        "    TfidfVectorizer(ngram_range=(1,1), stop_words='english'),\n",
        "    KNeighborsClassifier(n_neighbors=75, metric=\"euclidean\"))\n",
        "pipeline.fit(comb[\"Text\"], comb[\"Party\"])"
      ],
      "metadata": {
        "colab": {
          "base_uri": "https://localhost:8080/",
          "height": 124
        },
        "id": "8BGAn0SoqJaW",
        "outputId": "d4c28a81-81a7-4e40-e427-e33abd351eb0"
      },
      "execution_count": null,
      "outputs": [
        {
          "output_type": "execute_result",
          "data": {
            "text/plain": [
              "Pipeline(steps=[('tfidfvectorizer', TfidfVectorizer(stop_words='english')),\n",
              "                ('kneighborsclassifier',\n",
              "                 KNeighborsClassifier(metric='euclidean', n_neighbors=75))])"
            ],
            "text/html": [
              "<style>#sk-container-id-12 {color: black;background-color: white;}#sk-container-id-12 pre{padding: 0;}#sk-container-id-12 div.sk-toggleable {background-color: white;}#sk-container-id-12 label.sk-toggleable__label {cursor: pointer;display: block;width: 100%;margin-bottom: 0;padding: 0.3em;box-sizing: border-box;text-align: center;}#sk-container-id-12 label.sk-toggleable__label-arrow:before {content: \"▸\";float: left;margin-right: 0.25em;color: #696969;}#sk-container-id-12 label.sk-toggleable__label-arrow:hover:before {color: black;}#sk-container-id-12 div.sk-estimator:hover label.sk-toggleable__label-arrow:before {color: black;}#sk-container-id-12 div.sk-toggleable__content {max-height: 0;max-width: 0;overflow: hidden;text-align: left;background-color: #f0f8ff;}#sk-container-id-12 div.sk-toggleable__content pre {margin: 0.2em;color: black;border-radius: 0.25em;background-color: #f0f8ff;}#sk-container-id-12 input.sk-toggleable__control:checked~div.sk-toggleable__content {max-height: 200px;max-width: 100%;overflow: auto;}#sk-container-id-12 input.sk-toggleable__control:checked~label.sk-toggleable__label-arrow:before {content: \"▾\";}#sk-container-id-12 div.sk-estimator input.sk-toggleable__control:checked~label.sk-toggleable__label {background-color: #d4ebff;}#sk-container-id-12 div.sk-label input.sk-toggleable__control:checked~label.sk-toggleable__label {background-color: #d4ebff;}#sk-container-id-12 input.sk-hidden--visually {border: 0;clip: rect(1px 1px 1px 1px);clip: rect(1px, 1px, 1px, 1px);height: 1px;margin: -1px;overflow: hidden;padding: 0;position: absolute;width: 1px;}#sk-container-id-12 div.sk-estimator {font-family: monospace;background-color: #f0f8ff;border: 1px dotted black;border-radius: 0.25em;box-sizing: border-box;margin-bottom: 0.5em;}#sk-container-id-12 div.sk-estimator:hover {background-color: #d4ebff;}#sk-container-id-12 div.sk-parallel-item::after {content: \"\";width: 100%;border-bottom: 1px solid gray;flex-grow: 1;}#sk-container-id-12 div.sk-label:hover label.sk-toggleable__label {background-color: #d4ebff;}#sk-container-id-12 div.sk-serial::before {content: \"\";position: absolute;border-left: 1px solid gray;box-sizing: border-box;top: 0;bottom: 0;left: 50%;z-index: 0;}#sk-container-id-12 div.sk-serial {display: flex;flex-direction: column;align-items: center;background-color: white;padding-right: 0.2em;padding-left: 0.2em;position: relative;}#sk-container-id-12 div.sk-item {position: relative;z-index: 1;}#sk-container-id-12 div.sk-parallel {display: flex;align-items: stretch;justify-content: center;background-color: white;position: relative;}#sk-container-id-12 div.sk-item::before, #sk-container-id-12 div.sk-parallel-item::before {content: \"\";position: absolute;border-left: 1px solid gray;box-sizing: border-box;top: 0;bottom: 0;left: 50%;z-index: -1;}#sk-container-id-12 div.sk-parallel-item {display: flex;flex-direction: column;z-index: 1;position: relative;background-color: white;}#sk-container-id-12 div.sk-parallel-item:first-child::after {align-self: flex-end;width: 50%;}#sk-container-id-12 div.sk-parallel-item:last-child::after {align-self: flex-start;width: 50%;}#sk-container-id-12 div.sk-parallel-item:only-child::after {width: 0;}#sk-container-id-12 div.sk-dashed-wrapped {border: 1px dashed gray;margin: 0 0.4em 0.5em 0.4em;box-sizing: border-box;padding-bottom: 0.4em;background-color: white;}#sk-container-id-12 div.sk-label label {font-family: monospace;font-weight: bold;display: inline-block;line-height: 1.2em;}#sk-container-id-12 div.sk-label-container {text-align: center;}#sk-container-id-12 div.sk-container {/* jupyter's `normalize.less` sets `[hidden] { display: none; }` but bootstrap.min.css set `[hidden] { display: none !important; }` so we also need the `!important` here to be able to override the default hidden behavior on the sphinx rendered scikit-learn.org. See: https://github.com/scikit-learn/scikit-learn/issues/21755 */display: inline-block !important;position: relative;}#sk-container-id-12 div.sk-text-repr-fallback {display: none;}</style><div id=\"sk-container-id-12\" class=\"sk-top-container\"><div class=\"sk-text-repr-fallback\"><pre>Pipeline(steps=[(&#x27;tfidfvectorizer&#x27;, TfidfVectorizer(stop_words=&#x27;english&#x27;)),\n",
              "                (&#x27;kneighborsclassifier&#x27;,\n",
              "                 KNeighborsClassifier(metric=&#x27;euclidean&#x27;, n_neighbors=75))])</pre><b>In a Jupyter environment, please rerun this cell to show the HTML representation or trust the notebook. <br />On GitHub, the HTML representation is unable to render, please try loading this page with nbviewer.org.</b></div><div class=\"sk-container\" hidden><div class=\"sk-item sk-dashed-wrapped\"><div class=\"sk-label-container\"><div class=\"sk-label sk-toggleable\"><input class=\"sk-toggleable__control sk-hidden--visually\" id=\"sk-estimator-id-34\" type=\"checkbox\" ><label for=\"sk-estimator-id-34\" class=\"sk-toggleable__label sk-toggleable__label-arrow\">Pipeline</label><div class=\"sk-toggleable__content\"><pre>Pipeline(steps=[(&#x27;tfidfvectorizer&#x27;, TfidfVectorizer(stop_words=&#x27;english&#x27;)),\n",
              "                (&#x27;kneighborsclassifier&#x27;,\n",
              "                 KNeighborsClassifier(metric=&#x27;euclidean&#x27;, n_neighbors=75))])</pre></div></div></div><div class=\"sk-serial\"><div class=\"sk-item\"><div class=\"sk-estimator sk-toggleable\"><input class=\"sk-toggleable__control sk-hidden--visually\" id=\"sk-estimator-id-35\" type=\"checkbox\" ><label for=\"sk-estimator-id-35\" class=\"sk-toggleable__label sk-toggleable__label-arrow\">TfidfVectorizer</label><div class=\"sk-toggleable__content\"><pre>TfidfVectorizer(stop_words=&#x27;english&#x27;)</pre></div></div></div><div class=\"sk-item\"><div class=\"sk-estimator sk-toggleable\"><input class=\"sk-toggleable__control sk-hidden--visually\" id=\"sk-estimator-id-36\" type=\"checkbox\" ><label for=\"sk-estimator-id-36\" class=\"sk-toggleable__label sk-toggleable__label-arrow\">KNeighborsClassifier</label><div class=\"sk-toggleable__content\"><pre>KNeighborsClassifier(metric=&#x27;euclidean&#x27;, n_neighbors=75)</pre></div></div></div></div></div></div></div>"
            ]
          },
          "metadata": {},
          "execution_count": 98
        }
      ]
    },
    {
      "cell_type": "code",
      "source": [
        "scores = cross_val_score(\n",
        "    pipeline, comb[\"Text\"][10000:20000], comb[\"Party\"][10000:20000],\n",
        "    scoring=\"f1_macro\",\n",
        "    cv=10)\n",
        "print(scores.mean())"
      ],
      "metadata": {
        "colab": {
          "base_uri": "https://localhost:8080/"
        },
        "id": "qQ2ku3Txqo_z",
        "outputId": "1c9d21a5-61ac-49e3-e026-94304bf90f4a"
      },
      "execution_count": null,
      "outputs": [
        {
          "output_type": "stream",
          "name": "stdout",
          "text": [
            "0.7886279660188751\n"
          ]
        }
      ]
    },
    {
      "cell_type": "markdown",
      "source": [
        "Texting more hyper parameters."
      ],
      "metadata": {
        "id": "_sRpjavwicTw"
      }
    },
    {
      "cell_type": "code",
      "source": [
        "pipeline = make_pipeline(\n",
        "    TfidfVectorizer(ngram_range=(1,1), stop_words='english', max_df = 100),\n",
        "    KNeighborsClassifier(n_neighbors=75, metric=\"euclidean\"))\n",
        "pipeline.fit(comb[\"Text\"], comb[\"Party\"])\n",
        "scores = cross_val_score(\n",
        "    pipeline, comb[\"Text\"].head(10000), comb[\"Party\"].head(10000),\n",
        "    scoring=\"f1_macro\",\n",
        "    cv=10)\n",
        "print(scores.mean())"
      ],
      "metadata": {
        "colab": {
          "base_uri": "https://localhost:8080/"
        },
        "id": "CtlFWg3cujbl",
        "outputId": "dcced01a-1e17-4def-da5c-c10847c43a8d"
      },
      "execution_count": null,
      "outputs": [
        {
          "output_type": "stream",
          "name": "stdout",
          "text": [
            "0.6234769365196435\n"
          ]
        }
      ]
    },
    {
      "cell_type": "markdown",
      "source": [
        "Additional distance metric testing."
      ],
      "metadata": {
        "id": "h0GoGm3wihUF"
      }
    },
    {
      "cell_type": "code",
      "source": [
        "pipeline = make_pipeline(\n",
        "    TfidfVectorizer(ngram_range=(1,1), stop_words='english'),\n",
        "    KNeighborsClassifier(n_neighbors=75, metric=\"manhattan\"))\n",
        "pipeline.fit(comb[\"Text\"], comb[\"Party\"])\n",
        "scores = cross_val_score(\n",
        "    pipeline, comb[\"Text\"].head(10000), comb[\"Party\"].head(10000),\n",
        "    scoring=\"f1_macro\",\n",
        "    cv=10)\n",
        "print(scores.mean())"
      ],
      "metadata": {
        "colab": {
          "base_uri": "https://localhost:8080/"
        },
        "id": "YViAEFniwGE8",
        "outputId": "36cac28d-66f5-4da2-f0dc-a6910d902188"
      },
      "execution_count": null,
      "outputs": [
        {
          "output_type": "stream",
          "name": "stdout",
          "text": [
            "0.3459354095902688\n"
          ]
        }
      ]
    },
    {
      "cell_type": "markdown",
      "source": [
        "New model - Multinomial Naive Bayes which performed better."
      ],
      "metadata": {
        "id": "jNhsOaOlivhn"
      }
    },
    {
      "cell_type": "code",
      "source": [
        "from sklearn.naive_bayes import MultinomialNB\n",
        "from sklearn.model_selection import cross_val_score\n",
        "\n",
        "for i in [0.1, 0.2, 0.3, 0.4, 0.5, 0.6, 0.7, 0.8, 0.9, 1]:\n",
        "  pipeline = make_pipeline(\n",
        "      TfidfVectorizer(ngram_range=(1,1), stop_words='english'),\n",
        "      MultinomialNB(alpha=i))\n",
        "  pipeline.fit(comb[\"Text\"], comb[\"Party\"])\n",
        "  scores = cross_val_score(\n",
        "      pipeline, comb[\"Text\"].head(50000), comb[\"Party\"].head(50000),\n",
        "      scoring=\"f1_macro\",\n",
        "      cv=10)\n",
        "  print(i, scores.mean())"
      ],
      "metadata": {
        "id": "M2vqeiEU28jL",
        "colab": {
          "base_uri": "https://localhost:8080/"
        },
        "outputId": "7158923a-a49f-460b-c4f6-f82a5a0d9b3e"
      },
      "execution_count": null,
      "outputs": [
        {
          "output_type": "stream",
          "name": "stdout",
          "text": [
            "0.1 0.7886622612932054\n",
            "0.2 0.7910221764745298\n",
            "0.3 0.7912043047510213\n",
            "0.4 0.7914182349379468\n",
            "0.5 0.7912694288061093\n",
            "0.6 0.7907060945669466\n",
            "0.7 0.790355835086651\n",
            "0.8 0.7894662039666291\n",
            "0.9 0.7888140625584052\n",
            "1 0.7885645271360493\n"
          ]
        }
      ]
    },
    {
      "cell_type": "markdown",
      "source": [
        "Testing on first 10000 because its slower."
      ],
      "metadata": {
        "id": "iFkfT6oki3ax"
      }
    },
    {
      "cell_type": "code",
      "source": [
        "pipeline = make_pipeline(\n",
        "    TfidfVectorizer(ngram_range=(1,1), stop_words='english'),\n",
        "    MultinomialNB(alpha=0.4))\n",
        "pipeline.fit(comb[\"Text\"], comb[\"Party\"])\n",
        "scores = cross_val_score(\n",
        "    pipeline, comb[\"Text\"].head(10000), comb[\"Party\"].head(10000),\n",
        "    scoring=\"f1_macro\",\n",
        "    cv=10)\n",
        "print(scores.mean())"
      ],
      "metadata": {
        "colab": {
          "base_uri": "https://localhost:8080/"
        },
        "id": "HpD0z4UHCCcZ",
        "outputId": "4b996cad-d7b5-48eb-cc4e-617d4417823f"
      },
      "execution_count": null,
      "outputs": [
        {
          "output_type": "stream",
          "name": "stdout",
          "text": [
            "0.8539533544168677\n"
          ]
        }
      ]
    },
    {
      "cell_type": "markdown",
      "source": [
        "Attempted ensemble methods but not as fast or as high schoring."
      ],
      "metadata": {
        "id": "SO-KyHiTi8I-"
      }
    },
    {
      "cell_type": "code",
      "source": [
        "from sklearn.ensemble import StackingClassifier\n",
        "from sklearn.linear_model import LogisticRegression\n",
        "\n",
        "model1 = KNeighborsClassifier(n_neighbors=75, metric=\"euclidean\")\n",
        "model2 = MultinomialNB(alpha=0.4)\n",
        "\n",
        "stacker = StackingClassifier([(\"Model 1\", model1),\n",
        "                             (\"Model 2\", model2)],\n",
        "                            final_estimator=LogisticRegression())\n",
        "pipeline = make_pipeline(TfidfVectorizer(ngram_range=(1,1), stop_words='english'),\n",
        "                         stacker)\n",
        "scores = cross_val_score(\n",
        "      pipeline, comb[\"Text\"].head(10000), comb[\"Party\"].head(10000),\n",
        "      scoring=\"f1_macro\",\n",
        "      cv=5)\n",
        "print(scores.mean())"
      ],
      "metadata": {
        "colab": {
          "base_uri": "https://localhost:8080/"
        },
        "id": "mJD7VvkQ9nIG",
        "outputId": "bc666550-abca-4e82-f55a-fa78a8ddb049"
      },
      "execution_count": null,
      "outputs": [
        {
          "output_type": "stream",
          "name": "stdout",
          "text": [
            "0.8089182516803962\n"
          ]
        }
      ]
    },
    {
      "cell_type": "code",
      "source": [
        "!pip install snscrape\n",
        "import snscrape.modules.twitter as sntwitter"
      ],
      "metadata": {
        "colab": {
          "base_uri": "https://localhost:8080/"
        },
        "id": "ZPfJmoNT9V-N",
        "outputId": "0bbf01d7-c06a-4193-f5dd-79bf9f1459c3"
      },
      "execution_count": null,
      "outputs": [
        {
          "output_type": "stream",
          "name": "stdout",
          "text": [
            "Looking in indexes: https://pypi.org/simple, https://us-python.pkg.dev/colab-wheels/public/simple/\n",
            "Requirement already satisfied: snscrape in /usr/local/lib/python3.9/dist-packages (0.6.2.20230320)\n",
            "Requirement already satisfied: requests[socks] in /usr/local/lib/python3.9/dist-packages (from snscrape) (2.27.1)\n",
            "Requirement already satisfied: beautifulsoup4 in /usr/local/lib/python3.9/dist-packages (from snscrape) (4.11.2)\n",
            "Requirement already satisfied: lxml in /usr/local/lib/python3.9/dist-packages (from snscrape) (4.9.2)\n",
            "Requirement already satisfied: filelock in /usr/local/lib/python3.9/dist-packages (from snscrape) (3.10.0)\n",
            "Requirement already satisfied: soupsieve>1.2 in /usr/local/lib/python3.9/dist-packages (from beautifulsoup4->snscrape) (2.4)\n",
            "Requirement already satisfied: urllib3<1.27,>=1.21.1 in /usr/local/lib/python3.9/dist-packages (from requests[socks]->snscrape) (1.26.15)\n",
            "Requirement already satisfied: charset-normalizer~=2.0.0 in /usr/local/lib/python3.9/dist-packages (from requests[socks]->snscrape) (2.0.12)\n",
            "Requirement already satisfied: certifi>=2017.4.17 in /usr/local/lib/python3.9/dist-packages (from requests[socks]->snscrape) (2022.12.7)\n",
            "Requirement already satisfied: idna<4,>=2.5 in /usr/local/lib/python3.9/dist-packages (from requests[socks]->snscrape) (3.4)\n",
            "Requirement already satisfied: PySocks!=1.5.7,>=1.5.6 in /usr/local/lib/python3.9/dist-packages (from requests[socks]->snscrape) (1.7.1)\n"
          ]
        }
      ]
    },
    {
      "cell_type": "markdown",
      "source": [
        "Final function to predict the tweets from particular users along with examples below."
      ],
      "metadata": {
        "id": "ZGKqo2c8jC-9"
      }
    },
    {
      "cell_type": "code",
      "source": [
        "from sklearn.naive_bayes import MultinomialNB\n",
        "from sklearn.pipeline import make_pipeline\n",
        "from sklearn.feature_extraction.text import TfidfVectorizer\n",
        "\n",
        "\n",
        "model2 = MultinomialNB(alpha=0.4)\n",
        "\n",
        "pipeline = make_pipeline(TfidfVectorizer(ngram_range=(1,1), stop_words='english'),\n",
        "                         model2)\n",
        "pipeline.fit(comb[\"Text\"], comb[\"Party\"])\n",
        "def prediction(username):\n",
        "  df = pd.DataFrame(columns = [\"Text\"])\n",
        "\n",
        "  for i, tweet in enumerate(sntwitter.TwitterSearchScraper(\"from:\"+ username).get_items()):\n",
        "    if i == 1000:\n",
        "      break\n",
        "    new_addition = pd.DataFrame({\"Text\": [tweet.rawContent]})\n",
        "    df = pd.concat([df, new_addition], ignore_index = True)\n",
        "  print(pd.Series(pipeline.predict(df[\"Text\"])).value_counts())\n",
        "\n",
        "  \n",
        "  \n",
        "  "
      ],
      "metadata": {
        "id": "YJlrdGWAbgRR"
      },
      "execution_count": null,
      "outputs": []
    },
    {
      "cell_type": "code",
      "source": [
        "prediction(\"DonaldJTrumpJr\")"
      ],
      "metadata": {
        "colab": {
          "base_uri": "https://localhost:8080/"
        },
        "id": "Yur-ofsA_jX3",
        "outputId": "675a436f-ec9f-43f7-aa15-ea244c922ee4"
      },
      "execution_count": null,
      "outputs": [
        {
          "output_type": "stream",
          "name": "stdout",
          "text": [
            "Republican Party    823\n",
            "Democratic Party    177\n",
            "dtype: int64\n"
          ]
        }
      ]
    },
    {
      "cell_type": "code",
      "source": [
        "prediction(\"GovRonDeSantis\")"
      ],
      "metadata": {
        "colab": {
          "base_uri": "https://localhost:8080/"
        },
        "id": "vVwdpkS9AJKt",
        "outputId": "b303e1bd-a71c-4c2b-fe1e-ad2e4c0f0b0e"
      },
      "execution_count": null,
      "outputs": [
        {
          "output_type": "stream",
          "name": "stdout",
          "text": [
            "Republican Party    746\n",
            "Democratic Party    254\n",
            "dtype: int64\n"
          ]
        }
      ]
    },
    {
      "cell_type": "code",
      "source": [
        "prediction(\"POTUS\")"
      ],
      "metadata": {
        "colab": {
          "base_uri": "https://localhost:8080/"
        },
        "id": "k0HRL9FfARQ0",
        "outputId": "c822ef01-257f-4dfa-dda0-9555e4a767fb"
      },
      "execution_count": null,
      "outputs": [
        {
          "output_type": "stream",
          "name": "stdout",
          "text": [
            "Democratic Party    759\n",
            "Republican Party    241\n",
            "dtype: int64\n"
          ]
        }
      ]
    },
    {
      "cell_type": "code",
      "source": [
        "prediction(\"laurenboebert\")"
      ],
      "metadata": {
        "colab": {
          "base_uri": "https://localhost:8080/"
        },
        "id": "YEN_QWSYAcV6",
        "outputId": "58cd2cef-7655-4b9f-fba0-2a55ae753425"
      },
      "execution_count": null,
      "outputs": [
        {
          "output_type": "stream",
          "name": "stdout",
          "text": [
            "Republican Party    829\n",
            "Democratic Party    171\n",
            "dtype: int64\n"
          ]
        }
      ]
    },
    {
      "cell_type": "code",
      "source": [
        "prediction(\"KamalaHarris\")"
      ],
      "metadata": {
        "colab": {
          "base_uri": "https://localhost:8080/"
        },
        "id": "k9_UWmmPC8hV",
        "outputId": "8dcfbf83-475f-455b-f66e-0b829c620e7b"
      },
      "execution_count": null,
      "outputs": [
        {
          "output_type": "stream",
          "name": "stdout",
          "text": [
            "Democratic Party    881\n",
            "Republican Party    119\n",
            "dtype: int64\n"
          ]
        }
      ]
    },
    {
      "cell_type": "code",
      "source": [
        "prediction(\"BarackObama\")"
      ],
      "metadata": {
        "colab": {
          "base_uri": "https://localhost:8080/"
        },
        "id": "Ej40GWNBENwc",
        "outputId": "37e40b82-95c0-4fc1-a2c4-b80e5a77413d"
      },
      "execution_count": null,
      "outputs": [
        {
          "output_type": "stream",
          "name": "stdout",
          "text": [
            "Democratic Party    828\n",
            "Republican Party    172\n",
            "dtype: int64\n"
          ]
        }
      ]
    },
    {
      "cell_type": "code",
      "source": [
        "prediction(\"MichelleObama\")"
      ],
      "metadata": {
        "colab": {
          "base_uri": "https://localhost:8080/"
        },
        "id": "dGMh9kK9Ex-S",
        "outputId": "bacf5688-2d12-45a5-ca47-cc89e618e52e"
      },
      "execution_count": null,
      "outputs": [
        {
          "output_type": "stream",
          "name": "stdout",
          "text": [
            "Democratic Party    802\n",
            "Republican Party    198\n",
            "dtype: int64\n"
          ]
        }
      ]
    },
    {
      "cell_type": "code",
      "source": [
        "prediction(\"BenShapiro\")"
      ],
      "metadata": {
        "colab": {
          "base_uri": "https://localhost:8080/"
        },
        "id": "6yv2eJ62DY2M",
        "outputId": "6dbc3ef3-0875-43ef-887f-aa4575518874"
      },
      "execution_count": null,
      "outputs": [
        {
          "output_type": "stream",
          "name": "stdout",
          "text": [
            "Republican Party    773\n",
            "Democratic Party    227\n",
            "dtype: int64\n"
          ]
        }
      ]
    },
    {
      "cell_type": "code",
      "source": [
        "prediction(\"StevenCrowder\")"
      ],
      "metadata": {
        "colab": {
          "base_uri": "https://localhost:8080/"
        },
        "id": "sMFG8wZ_DvJ0",
        "outputId": "4cf1a4d1-7fb3-4183-c7ed-50f2d285b103"
      },
      "execution_count": null,
      "outputs": [
        {
          "output_type": "stream",
          "name": "stdout",
          "text": [
            "Republican Party    714\n",
            "Democratic Party    286\n",
            "dtype: int64\n"
          ]
        }
      ]
    },
    {
      "cell_type": "code",
      "source": [
        "prediction(\"maddow\")"
      ],
      "metadata": {
        "colab": {
          "base_uri": "https://localhost:8080/"
        },
        "id": "ijm72FyfDzhQ",
        "outputId": "6e178fac-35f4-41fd-f8d2-5a4dc786f8f4"
      },
      "execution_count": null,
      "outputs": [
        {
          "output_type": "stream",
          "name": "stdout",
          "text": [
            "Republican Party    660\n",
            "Democratic Party    340\n",
            "dtype: int64\n"
          ]
        }
      ]
    },
    {
      "cell_type": "code",
      "source": [
        "prediction(\"HillaryClinton\")"
      ],
      "metadata": {
        "colab": {
          "base_uri": "https://localhost:8080/"
        },
        "id": "N4iCmoa4FLPD",
        "outputId": "f2a49199-4697-472d-bd78-8b67c32bac41"
      },
      "execution_count": null,
      "outputs": [
        {
          "output_type": "stream",
          "name": "stdout",
          "text": [
            "Democratic Party    759\n",
            "Republican Party    241\n",
            "dtype: int64\n"
          ]
        }
      ]
    }
  ]
}